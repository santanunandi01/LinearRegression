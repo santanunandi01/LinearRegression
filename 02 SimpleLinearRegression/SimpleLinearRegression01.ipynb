{
  "nbformat": 4,
  "nbformat_minor": 0,
  "metadata": {
    "colab": {
      "name": "SimpleLinearRegression01-Git.ipynb",
      "provenance": [],
      "collapsed_sections": []
    },
    "kernelspec": {
      "name": "python3",
      "display_name": "Python 3"
    },
    "language_info": {
      "name": "python"
    }
  },
  "cells": [
    {
      "cell_type": "code",
      "metadata": {
        "id": "G1JudTObpAh5"
      },
      "source": [
        "#importing all the libraries\n",
        "import numpy as np\n",
        "from sklearn.linear_model import LinearRegression\n",
        "import seaborn as sns\n",
        "import matplotlib.pyplot as plt\n",
        "%matplotlib inline\n",
        "plt.style.use('fivethirtyeight')"
      ],
      "execution_count": 1,
      "outputs": []
    },
    {
      "cell_type": "code",
      "metadata": {
        "id": "dOcHKgsmp-Bi"
      },
      "source": [
        "#creating our input set\n",
        "X = np.random.randint(0, 1000, 100)"
      ],
      "execution_count": 2,
      "outputs": []
    },
    {
      "cell_type": "markdown",
      "metadata": {
        "id": "CAcKkz7a0rz-"
      },
      "source": [
        "our X is an array of 100 random numbers between 0 and 1000."
      ]
    },
    {
      "cell_type": "code",
      "metadata": {
        "id": "XrwmR17sqMe4"
      },
      "source": [
        "#Here X is a 1D array\n",
        "#But for LinearRegression we need 2D array\n",
        "#converitng X to a 2D array\n",
        "X = X.reshape(len(X), 1)"
      ],
      "execution_count": 3,
      "outputs": []
    },
    {
      "cell_type": "markdown",
      "metadata": {
        "id": "MN_5DUcbhNeY"
      },
      "source": [
        "Here X is a 2D array with 100 rows and 1 column"
      ]
    },
    {
      "cell_type": "code",
      "metadata": {
        "id": "pvu06Zbdqkwi"
      },
      "source": [
        "#creating out put set\n",
        "#for input X output will be y\n",
        "#y = X*2 + 3\n",
        "y = X*2 + 3"
      ],
      "execution_count": 4,
      "outputs": []
    },
    {
      "cell_type": "markdown",
      "metadata": {
        "id": "Ex3BEtoZhWcE"
      },
      "source": [
        "Size of y is same as X"
      ]
    },
    {
      "cell_type": "code",
      "metadata": {
        "colab": {
          "base_uri": "https://localhost:8080/",
          "height": 476
        },
        "id": "pR2b1PCGd_oX",
        "outputId": "0c9577d1-b332-47a3-ce87-bef227cd58db"
      },
      "source": [
        "#checking the relation between X and y\n",
        "plt.figure(figsize=(12, 7))\n",
        "plt.plot(X, y)\n",
        "plt.title('X vs y')\n",
        "plt.xlabel(\"X -->\")\n",
        "plt.ylabel(\"y -->\")"
      ],
      "execution_count": 5,
      "outputs": [
        {
          "output_type": "execute_result",
          "data": {
            "text/plain": [
              "Text(0, 0.5, 'y -->')"
            ]
          },
          "metadata": {
            "tags": []
          },
          "execution_count": 5
        },
        {
          "output_type": "display_data",
          "data": {
            "image/png": "[encoded data removed]",
            "text/plain": [
              "<Figure size 864x504 with 1 Axes>"
            ]
          },
          "metadata": {
            "tags": [],
            "needs_background": "light"
          }
        }
      ]
    },
    {
      "cell_type": "markdown",
      "metadata": {
        "id": "GHdpJPh4hneR"
      },
      "source": [
        "Here the plot is a straight line. So, x and y is a part of a linear eqaution.\n",
        "y = mx + c"
      ]
    },
    {
      "cell_type": "code",
      "metadata": {
        "id": "8bMmfdfEqxv9"
      },
      "source": [
        "#creating our linear regression object\n",
        "lm = LinearRegression()"
      ],
      "execution_count": 6,
      "outputs": []
    },
    {
      "cell_type": "code",
      "metadata": {
        "colab": {
          "base_uri": "https://localhost:8080/"
        },
        "id": "vvicLrdmrNej",
        "outputId": "c4cc20de-beaf-49a8-86ea-e561b33f9fcf"
      },
      "source": [
        "#fitting our data to the linear model\n",
        "lm.fit(X, y)"
      ],
      "execution_count": 7,
      "outputs": [
        {
          "output_type": "execute_result",
          "data": {
            "text/plain": [
              "LinearRegression(copy_X=True, fit_intercept=True, n_jobs=None, normalize=False)"
            ]
          },
          "metadata": {
            "tags": []
          },
          "execution_count": 7
        }
      ]
    },
    {
      "cell_type": "markdown",
      "metadata": {
        "id": "-cXiFLm5rVyJ"
      },
      "source": [
        "Our linear model is ready. Now we can check its intercept, coefficient or predict values"
      ]
    },
    {
      "cell_type": "code",
      "metadata": {
        "colab": {
          "base_uri": "https://localhost:8080/"
        },
        "id": "4T4eXM1-rRlS",
        "outputId": "875025fa-6e6e-4b6f-8de3-f7b5f05a589b"
      },
      "source": [
        "#finding the coeffiecient(m)\n",
        "lm.coef_"
      ],
      "execution_count": 8,
      "outputs": [
        {
          "output_type": "execute_result",
          "data": {
            "text/plain": [
              "array([[2.]])"
            ]
          },
          "metadata": {
            "tags": []
          },
          "execution_count": 8
        }
      ]
    },
    {
      "cell_type": "code",
      "metadata": {
        "colab": {
          "base_uri": "https://localhost:8080/"
        },
        "id": "8he4zPQVribk",
        "outputId": "519ce7ab-b470-4e4f-cc72-d67b3d17ec0d"
      },
      "source": [
        "#finding the intercept(c)\n",
        "lm.intercept_"
      ],
      "execution_count": 9,
      "outputs": [
        {
          "output_type": "execute_result",
          "data": {
            "text/plain": [
              "array([3.])"
            ]
          },
          "metadata": {
            "tags": []
          },
          "execution_count": 9
        }
      ]
    },
    {
      "cell_type": "code",
      "metadata": {
        "colab": {
          "base_uri": "https://localhost:8080/"
        },
        "id": "XmmeQHSxrocK",
        "outputId": "f65a31e7-1ba6-44cc-b004-9ae87f973710"
      },
      "source": [
        "#how good is our model\n",
        "#output 1 shows it will be 100 percent accurate\n",
        "lm.score(X, y)"
      ],
      "execution_count": 10,
      "outputs": [
        {
          "output_type": "execute_result",
          "data": {
            "text/plain": [
              "1.0"
            ]
          },
          "metadata": {
            "tags": []
          },
          "execution_count": 10
        }
      ]
    },
    {
      "cell_type": "code",
      "metadata": {
        "id": "zWWyXuVlsEKh"
      },
      "source": [
        "#predicting values respect to the X \n",
        "prediction = lm.predict(X)"
      ],
      "execution_count": 11,
      "outputs": []
    },
    {
      "cell_type": "code",
      "metadata": {
        "colab": {
          "base_uri": "https://localhost:8080/",
          "height": 442
        },
        "id": "TUmBB9UBsZnZ",
        "outputId": "458b4779-1253-4584-f21a-a626545d3b38"
      },
      "source": [
        "#plotting our predicted values respected to original values\n",
        "plt.figure(figsize=(12,7))\n",
        "plt.scatter(y, prediction)"
      ],
      "execution_count": 12,
      "outputs": [
        {
          "output_type": "execute_result",
          "data": {
            "text/plain": [
              "<matplotlib.collections.PathCollection at 0x7f34a1942450>"
            ]
          },
          "metadata": {
            "tags": []
          },
          "execution_count": 12
        },
        {
          "output_type": "display_data",
          "data": {
            "image/png": "[encoded data removed]",
            "text/plain": [
              "<Figure size 864x504 with 1 Axes>"
            ]
          },
          "metadata": {
            "tags": [],
            "needs_background": "light"
          }
        }
      ]
    },
    {
      "cell_type": "markdown",
      "metadata": {
        "id": "JTFu0_7uu5rn"
      },
      "source": [
        "The efficiency of the model is 100%. For that the predicted values are same as origianl values. So, we get our scatter plot like a straight line."
      ]
    },
    {
      "cell_type": "code",
      "metadata": {
        "colab": {
          "base_uri": "https://localhost:8080/",
          "height": 366
        },
        "id": "2Y0hNyQgxqQC",
        "outputId": "3fbff59f-9918-4fab-bc26-6d1eb7d9803f"
      },
      "source": [
        "sns.distplot(y-prediction)"
      ],
      "execution_count": 13,
      "outputs": [
        {
          "output_type": "stream",
          "text": [
            "/usr/local/lib/python3.7/dist-packages/seaborn/distributions.py:2557: FutureWarning: `distplot` is a deprecated function and will be removed in a future version. Please adapt your code to use either `displot` (a figure-level function with similar flexibility) or `histplot` (an axes-level function for histograms).\n",
            "  warnings.warn(msg, FutureWarning)\n",
            "/usr/local/lib/python3.7/dist-packages/seaborn/distributions.py:306: UserWarning: Dataset has 0 variance; skipping density estimate.\n",
            "  warnings.warn(msg, UserWarning)\n"
          ],
          "name": "stderr"
        },
        {
          "output_type": "execute_result",
          "data": {
            "text/plain": [
              "<matplotlib.axes._subplots.AxesSubplot at 0x7f34a18cb710>"
            ]
          },
          "metadata": {
            "tags": []
          },
          "execution_count": 13
        },
        {
          "output_type": "display_data",
          "data": {
            "image/png": "[encoded data removed]",
            "text/plain": [
              "<Figure size 432x288 with 1 Axes>"
            ]
          },
          "metadata": {
            "tags": [],
            "needs_background": "light"
          }
        }
      ]
    },
    {
      "cell_type": "markdown",
      "metadata": {
        "id": "te_ULhW7xzF_"
      },
      "source": [
        "As our efficiency is 100%, so we get a bar"
      ]
    },
    {
      "cell_type": "code",
      "metadata": {
        "colab": {
          "base_uri": "https://localhost:8080/"
        },
        "id": "KcDhbgMNseCB",
        "outputId": "9993cf14-72fe-4dca-bef2-dad94e73e801"
      },
      "source": [
        "#Now check our model by giving any random input\n",
        "lm.predict([[2]])"
      ],
      "execution_count": 14,
      "outputs": [
        {
          "output_type": "execute_result",
          "data": {
            "text/plain": [
              "array([[7.]])"
            ]
          },
          "metadata": {
            "tags": []
          },
          "execution_count": 14
        }
      ]
    },
    {
      "cell_type": "markdown",
      "metadata": {
        "id": "32ujzBCrv0DG"
      },
      "source": [
        "So, for input 2 our output is 7.\n",
        "Now the relation between X and y was:\n",
        "y = X**2 + 3, \n",
        "so for X=2 our y should be (2x2) + 3 = 7, \n",
        "so our model is working properly"
      ]
    },
    {
      "cell_type": "code",
      "metadata": {
        "colab": {
          "base_uri": "https://localhost:8080/"
        },
        "id": "LALz6OKlvyMJ",
        "outputId": "fd8e4d85-5ba6-4da4-f98b-5b34bf48d994"
      },
      "source": [
        "lm.predict([[1032]])"
      ],
      "execution_count": 15,
      "outputs": [
        {
          "output_type": "execute_result",
          "data": {
            "text/plain": [
              "array([[2067.]])"
            ]
          },
          "metadata": {
            "tags": []
          },
          "execution_count": 15
        }
      ]
    },
    {
      "cell_type": "markdown",
      "metadata": {
        "id": "47uOThEAw3lp"
      },
      "source": [
        "y = (1032x2) + 3 = 2067, so our output is correct"
      ]
    },
    {
      "cell_type": "markdown",
      "metadata": {
        "id": "Dx49Wdh0y-00"
      },
      "source": [
        "**Note: -** our data set is very mcuh simple thats why our efficiency is 100%. For that reason we get the exact output."
      ]
    },
    {
      "cell_type": "code",
      "metadata": {
        "id": "UFxWv03B0lq3"
      },
      "source": [
        "#findign the errors using metrics\n",
        "from sklearn import metrics"
      ],
      "execution_count": 16,
      "outputs": []
    },
    {
      "cell_type": "code",
      "metadata": {
        "colab": {
          "base_uri": "https://localhost:8080/"
        },
        "id": "LFWIFemJ9jtg",
        "outputId": "4056b23c-abe9-420c-844a-92c8f8b9daa0"
      },
      "source": [
        "#mean square error\n",
        "metrics.mean_squared_error(y, prediction)"
      ],
      "execution_count": 17,
      "outputs": [
        {
          "output_type": "execute_result",
          "data": {
            "text/plain": [
              "0.0"
            ]
          },
          "metadata": {
            "tags": []
          },
          "execution_count": 17
        }
      ]
    },
    {
      "cell_type": "code",
      "metadata": {
        "colab": {
          "base_uri": "https://localhost:8080/"
        },
        "id": "npfWV9t_-CnW",
        "outputId": "1f9a142f-ccb4-464a-d398-31b0edc43adc"
      },
      "source": [
        "#root mean square error\n",
        "np.sqrt(metrics.mean_squared_error(y, prediction))"
      ],
      "execution_count": 18,
      "outputs": [
        {
          "output_type": "execute_result",
          "data": {
            "text/plain": [
              "0.0"
            ]
          },
          "metadata": {
            "tags": []
          },
          "execution_count": 18
        }
      ]
    },
    {
      "cell_type": "markdown",
      "metadata": {
        "id": "Z4xRebnGfpd3"
      },
      "source": [
        "As our efficiency is 100%, thats why our error is 0.\n",
        "Every time we run the same code, perhaps we will not get the same output or the same efficiency. But the will be almost same. The graphs can be different also.\n",
        "\n",
        "\n"
      ]
    }
  ]
}
