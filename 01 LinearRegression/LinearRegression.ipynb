{
  "nbformat": 4,
  "nbformat_minor": 0,
  "metadata": {
    "colab": {
      "name": "LinearRegression.ipynb",
      "provenance": [],
      "collapsed_sections": []
    },
    "kernelspec": {
      "name": "python3",
      "display_name": "Python 3"
    },
    "language_info": {
      "name": "python"
    }
  },
  "cells": [
    {
      "cell_type": "code",
      "metadata": {
        "id": "mm9KmPDOX67I"
      },
      "source": [
        "#importing the librearies\n",
        "import pandas as pd\n",
        "import numpy as np\n",
        "import matplotlib.pyplot as plt"
      ],
      "execution_count": 5,
      "outputs": []
    },
    {
      "cell_type": "code",
      "metadata": {
        "id": "6nHDkClCZhup"
      },
      "source": [
        "%matplotlib inline\n",
        "plt.style.use(\"fivethirtyeight\")"
      ],
      "execution_count": 2,
      "outputs": []
    },
    {
      "cell_type": "code",
      "metadata": {
        "id": "XDgg7XxxaBPW"
      },
      "source": [
        "#importing our dataframe\n",
        "df = pd.read_csv(\"/content/drive/MyDrive/Data sets/data.csv\")"
      ],
      "execution_count": 3,
      "outputs": []
    },
    {
      "cell_type": "code",
      "metadata": {
        "colab": {
          "base_uri": "https://localhost:8080/",
          "height": 195
        },
        "id": "54EOd9MJgoJJ",
        "outputId": "6d6d6377-88d9-424e-eb8b-568773f754bd"
      },
      "source": [
        "df.head()"
      ],
      "execution_count": 4,
      "outputs": [
        {
          "output_type": "execute_result",
          "data": {
            "text/html": [
              "<div>\n",
              "<style scoped>\n",
              "    .dataframe tbody tr th:only-of-type {\n",
              "        vertical-align: middle;\n",
              "    }\n",
              "\n",
              "    .dataframe tbody tr th {\n",
              "        vertical-align: top;\n",
              "    }\n",
              "\n",
              "    .dataframe thead th {\n",
              "        text-align: right;\n",
              "    }\n",
              "</style>\n",
              "<table border=\"1\" class=\"dataframe\">\n",
              "  <thead>\n",
              "    <tr style=\"text-align: right;\">\n",
              "      <th></th>\n",
              "      <th>x</th>\n",
              "      <th>y</th>\n",
              "    </tr>\n",
              "  </thead>\n",
              "  <tbody>\n",
              "    <tr>\n",
              "      <th>0</th>\n",
              "      <td>11</td>\n",
              "      <td>27</td>\n",
              "    </tr>\n",
              "    <tr>\n",
              "      <th>1</th>\n",
              "      <td>26</td>\n",
              "      <td>54</td>\n",
              "    </tr>\n",
              "    <tr>\n",
              "      <th>2</th>\n",
              "      <td>59</td>\n",
              "      <td>123</td>\n",
              "    </tr>\n",
              "    <tr>\n",
              "      <th>3</th>\n",
              "      <td>49</td>\n",
              "      <td>100</td>\n",
              "    </tr>\n",
              "    <tr>\n",
              "      <th>4</th>\n",
              "      <td>65</td>\n",
              "      <td>133</td>\n",
              "    </tr>\n",
              "  </tbody>\n",
              "</table>\n",
              "</div>"
            ],
            "text/plain": [
              "    x    y\n",
              "0  11   27\n",
              "1  26   54\n",
              "2  59  123\n",
              "3  49  100\n",
              "4  65  133"
            ]
          },
          "metadata": {
            "tags": []
          },
          "execution_count": 66
        }
      ]
    },
    {
      "cell_type": "code",
      "metadata": {
        "id": "LjWFE7XLxQ9K"
      },
      "source": [
        "#creating our indipendent and dependent variable\n",
        "X = df.iloc[:, 0]\n",
        "Y = df.iloc[:, 1]"
      ],
      "execution_count": 67,
      "outputs": []
    },
    {
      "cell_type": "code",
      "metadata": {
        "id": "-u1c9Jc5d0bH",
        "colab": {
          "base_uri": "https://localhost:8080/",
          "height": 457
        },
        "outputId": "5ccbff67-9db7-44b0-9b84-edc218447d18"
      },
      "source": [
        "#let's plot our data\n",
        "plt.figure(figsize=(14,7))\n",
        "plt.scatter(X, Y)\n",
        "plt.show()"
      ],
      "execution_count": 68,
      "outputs": [
        {
          "output_type": "display_data",
          "data": {
            "image/png": "[encoded data removed]",
            "text/plain": [
              "<Figure size 1008x504 with 1 Axes>"
            ]
          },
          "metadata": {
            "tags": []
          }
        }
      ]
    },
    {
      "cell_type": "markdown",
      "metadata": {
        "id": "VrY9kjFaYFhl"
      },
      "source": [
        "### Creating our model"
      ]
    },
    {
      "cell_type": "code",
      "metadata": {
        "id": "FEQHgAl5gBzj"
      },
      "source": [
        "#calculating intercept and coefficient\n",
        "X_mean = np.mean(X)\n",
        "y_mean = np.mean(Y)\n",
        "\n",
        "n = 0\n",
        "d = 0\n",
        "\n",
        "for i in range(len(X)):\n",
        "    n += (X[i] - X_mean)*(Y[i] - y_mean)\n",
        "    d += (X[i] - X_mean)**2\n",
        "    \n",
        "m = n / d\n",
        "c = y_mean - m*X_mean"
      ],
      "execution_count": 69,
      "outputs": []
    },
    {
      "cell_type": "code",
      "metadata": {
        "colab": {
          "base_uri": "https://localhost:8080/",
          "height": 474
        },
        "id": "32ashdeigXVK",
        "outputId": "61b4f0c5-7b07-4d93-8494-287ecd20a619"
      },
      "source": [
        "#predict values and plot them against original values\n",
        "y_predict = m*X + c\n",
        "plt.figure(figsize=(14,7))\n",
        "plt.scatter(X, y_predict, color=\"red\")\n",
        "plt.plot(X, y_predict)"
      ],
      "execution_count": 70,
      "outputs": [
        {
          "output_type": "execute_result",
          "data": {
            "text/plain": [
              "[<matplotlib.lines.Line2D at 0x7f8c4760fa90>]"
            ]
          },
          "metadata": {
            "tags": []
          },
          "execution_count": 70
        },
        {
          "output_type": "display_data",
          "data": {
            "image/png": "[encoded data removed]",
            "text/plain": [
              "<Figure size 1008x504 with 1 Axes>"
            ]
          },
          "metadata": {
            "tags": []
          }
        }
      ]
    },
    {
      "cell_type": "code",
      "metadata": {
        "colab": {
          "base_uri": "https://localhost:8080/"
        },
        "id": "ddk6fHLPg92h",
        "outputId": "b37e7fc7-0d9a-4c3b-f701-2cd3bb39692d"
      },
      "source": [
        "#value of intercept\n",
        "m"
      ],
      "execution_count": 71,
      "outputs": [
        {
          "output_type": "execute_result",
          "data": {
            "text/plain": [
              "2.0119422249040095"
            ]
          },
          "metadata": {
            "tags": []
          },
          "execution_count": 71
        }
      ]
    },
    {
      "cell_type": "code",
      "metadata": {
        "colab": {
          "base_uri": "https://localhost:8080/"
        },
        "id": "x7avvgGyhAzC",
        "outputId": "bb6d6a4a-5113-4fad-a597-c19dbe3e4ebb"
      },
      "source": [
        "#value of coefficient\n",
        "c"
      ],
      "execution_count": 72,
      "outputs": [
        {
          "output_type": "execute_result",
          "data": {
            "text/plain": [
              "2.3543256911392376"
            ]
          },
          "metadata": {
            "tags": []
          },
          "execution_count": 72
        }
      ]
    },
    {
      "cell_type": "code",
      "metadata": {
        "id": "Zv2w3ZM7hBTK"
      },
      "source": [
        "#predicting values with random output\n",
        "pred = m * 10 + c"
      ],
      "execution_count": 73,
      "outputs": []
    },
    {
      "cell_type": "code",
      "metadata": {
        "id": "CkQBRpskhR-d",
        "colab": {
          "base_uri": "https://localhost:8080/"
        },
        "outputId": "9cf88c64-c784-47e3-afed-cd29bf7dec87"
      },
      "source": [
        "pred"
      ],
      "execution_count": 74,
      "outputs": [
        {
          "output_type": "execute_result",
          "data": {
            "text/plain": [
              "22.473747940179333"
            ]
          },
          "metadata": {
            "tags": []
          },
          "execution_count": 74
        }
      ]
    },
    {
      "cell_type": "code",
      "metadata": {
        "id": "2jqecVbPhTP6"
      },
      "source": [
        "pred = m * 17 + c"
      ],
      "execution_count": 75,
      "outputs": []
    },
    {
      "cell_type": "code",
      "metadata": {
        "colab": {
          "base_uri": "https://localhost:8080/"
        },
        "id": "5D94I4tGmJUb",
        "outputId": "93a5c9f0-c8cf-4936-de5e-175d03ad47eb"
      },
      "source": [
        "pred"
      ],
      "execution_count": 76,
      "outputs": [
        {
          "output_type": "execute_result",
          "data": {
            "text/plain": [
              "36.5573435145074"
            ]
          },
          "metadata": {
            "tags": []
          },
          "execution_count": 76
        }
      ]
    },
    {
      "cell_type": "code",
      "metadata": {
        "colab": {
          "base_uri": "https://localhost:8080/"
        },
        "id": "GkY8ZzkBzQzE",
        "outputId": "69793980-084a-4125-c873-a944db1ea1ee"
      },
      "source": [
        "y_predict[15]"
      ],
      "execution_count": 77,
      "outputs": [
        {
          "output_type": "execute_result",
          "data": {
            "text/plain": [
              "131.11862808499586"
            ]
          },
          "metadata": {
            "tags": []
          },
          "execution_count": 77
        }
      ]
    },
    {
      "cell_type": "markdown",
      "metadata": {
        "id": "pQadha4EXrMd"
      },
      "source": [
        "### Calculating mean squared error"
      ]
    },
    {
      "cell_type": "code",
      "metadata": {
        "id": "0DWhiVNNzZR5"
      },
      "source": [
        "#finding the mean squared error\n",
        "error = 0\n",
        "for i in range(len(Y)):\n",
        "    error += (Y[i]-y_predict[i])**2\n",
        "error /= len(Y)"
      ],
      "execution_count": 78,
      "outputs": []
    },
    {
      "cell_type": "code",
      "metadata": {
        "colab": {
          "base_uri": "https://localhost:8080/"
        },
        "id": "NVslU6RUzwog",
        "outputId": "348839c1-4f23-4c9d-8ca1-5cd6c5a82e06"
      },
      "source": [
        "error"
      ],
      "execution_count": 79,
      "outputs": [
        {
          "output_type": "execute_result",
          "data": {
            "text/plain": [
              "1.7069122629476405"
            ]
          },
          "metadata": {
            "tags": []
          },
          "execution_count": 79
        }
      ]
    },
    {
      "cell_type": "code",
      "metadata": {
        "id": "M_Z1M_opRItF"
      },
      "source": [
        "#root mean squared error\n",
        "rms_error = np.sqrt(error)"
      ],
      "execution_count": 80,
      "outputs": []
    },
    {
      "cell_type": "code",
      "metadata": {
        "colab": {
          "base_uri": "https://localhost:8080/"
        },
        "id": "SayWNQ7sRSmb",
        "outputId": "632a5dc8-4338-4db4-a412-9eee31b6d372"
      },
      "source": [
        "rms_error"
      ],
      "execution_count": 81,
      "outputs": [
        {
          "output_type": "execute_result",
          "data": {
            "text/plain": [
              "1.3064885238484265"
            ]
          },
          "metadata": {
            "tags": []
          },
          "execution_count": 81
        }
      ]
    },
    {
      "cell_type": "markdown",
      "metadata": {
        "id": "PGn30YnAX1-I"
      },
      "source": [
        "### Calculating Score of the model"
      ]
    },
    {
      "cell_type": "code",
      "metadata": {
        "id": "qXsYiUWBzyjA"
      },
      "source": [
        "#length of y\n",
        "l = len(Y)\n",
        "#average of y\n",
        "y_avg=np.sum(Y)/l\n",
        "#total sum of square error\n",
        "total_error = np.sum((Y-y_avg)**2)\n",
        "#total sum of squared error\n",
        "res_error = np.sum((Y-y_predict)**2)\n",
        "score = 1-(res_error/total_error)"
      ],
      "execution_count": 82,
      "outputs": []
    },
    {
      "cell_type": "code",
      "metadata": {
        "colab": {
          "base_uri": "https://localhost:8080/"
        },
        "id": "4m902NJBjEVQ",
        "outputId": "637779f3-f5c9-4997-cbb2-a671e310e82d"
      },
      "source": [
        "score"
      ],
      "execution_count": 83,
      "outputs": [
        {
          "output_type": "execute_result",
          "data": {
            "text/plain": [
              "0.9993825347528843"
            ]
          },
          "metadata": {
            "tags": []
          },
          "execution_count": 83
        }
      ]
    },
    {
      "cell_type": "code",
      "metadata": {
        "id": "L-P6pR-tbLhk"
      },
      "source": [
        ""
      ],
      "execution_count": 83,
      "outputs": []
    }
  ]
}
