{
  "nbformat": 4,
  "nbformat_minor": 0,
  "metadata": {
    "colab": {
      "name": "MultipleLinearRegression01-Git.ipynb",
      "provenance": [],
      "collapsed_sections": []
    },
    "kernelspec": {
      "name": "python3",
      "display_name": "Python 3"
    },
    "language_info": {
      "name": "python"
    }
  },
  "cells": [
    {
      "cell_type": "code",
      "metadata": {
        "id": "Gp_OeVtFljlv"
      },
      "source": [
        "#importing the libraries\n",
        "import numpy as np\n",
        "from sklearn.linear_model import LinearRegression\n",
        "import pandas as pd"
      ],
      "execution_count": null,
      "outputs": []
    },
    {
      "cell_type": "code",
      "metadata": {
        "colab": {
          "base_uri": "https://localhost:8080/",
          "height": 195
        },
        "id": "5RluPXQQln0z",
        "outputId": "afeeaa7d-ce90-4d3d-b089-a3211931d3e2"
      },
      "source": [
        "#importing our data frame\n",
        "df = pd.read_csv(\"/content/drive/MyDrive/Data sets/two_digits.csv\")\n",
        "df.head()"
      ],
      "execution_count": null,
      "outputs": [
        {
          "output_type": "execute_result",
          "data": {
            "text/html": [
              "<div>\n",
              "<style scoped>\n",
              "    .dataframe tbody tr th:only-of-type {\n",
              "        vertical-align: middle;\n",
              "    }\n",
              "\n",
              "    .dataframe tbody tr th {\n",
              "        vertical-align: top;\n",
              "    }\n",
              "\n",
              "    .dataframe thead th {\n",
              "        text-align: right;\n",
              "    }\n",
              "</style>\n",
              "<table border=\"1\" class=\"dataframe\">\n",
              "  <thead>\n",
              "    <tr style=\"text-align: right;\">\n",
              "      <th></th>\n",
              "      <th>x</th>\n",
              "      <th>y</th>\n",
              "      <th>z</th>\n",
              "    </tr>\n",
              "  </thead>\n",
              "  <tbody>\n",
              "    <tr>\n",
              "      <th>0</th>\n",
              "      <td>0</td>\n",
              "      <td>9</td>\n",
              "      <td>9</td>\n",
              "    </tr>\n",
              "    <tr>\n",
              "      <th>1</th>\n",
              "      <td>3</td>\n",
              "      <td>1</td>\n",
              "      <td>31</td>\n",
              "    </tr>\n",
              "    <tr>\n",
              "      <th>2</th>\n",
              "      <td>9</td>\n",
              "      <td>3</td>\n",
              "      <td>93</td>\n",
              "    </tr>\n",
              "    <tr>\n",
              "      <th>3</th>\n",
              "      <td>5</td>\n",
              "      <td>2</td>\n",
              "      <td>52</td>\n",
              "    </tr>\n",
              "    <tr>\n",
              "      <th>4</th>\n",
              "      <td>1</td>\n",
              "      <td>8</td>\n",
              "      <td>18</td>\n",
              "    </tr>\n",
              "  </tbody>\n",
              "</table>\n",
              "</div>"
            ],
            "text/plain": [
              "   x  y   z\n",
              "0  0  9   9\n",
              "1  3  1  31\n",
              "2  9  3  93\n",
              "3  5  2  52\n",
              "4  1  8  18"
            ]
          },
          "metadata": {
            "tags": []
          },
          "execution_count": 25
        }
      ]
    },
    {
      "cell_type": "code",
      "metadata": {
        "id": "GDEoNwKzmCoA"
      },
      "source": [
        "#importing Linear Regression method \n",
        "from sklearn.linear_model import LinearRegression"
      ],
      "execution_count": null,
      "outputs": []
    },
    {
      "cell_type": "code",
      "metadata": {
        "id": "YbMuJEBZmHsK"
      },
      "source": [
        "#creating regression model\n",
        "lm = LinearRegression()"
      ],
      "execution_count": null,
      "outputs": []
    },
    {
      "cell_type": "code",
      "metadata": {
        "colab": {
          "base_uri": "https://localhost:8080/"
        },
        "id": "m5r0Tr63mJAi",
        "outputId": "7d7d45f3-489a-49be-9739-95bdedc00c34"
      },
      "source": [
        "df.columns"
      ],
      "execution_count": null,
      "outputs": [
        {
          "output_type": "execute_result",
          "data": {
            "text/plain": [
              "Index(['x', 'y', 'z'], dtype='object')"
            ]
          },
          "metadata": {
            "tags": []
          },
          "execution_count": 28
        }
      ]
    },
    {
      "cell_type": "code",
      "metadata": {
        "id": "hHynULkOmLkK"
      },
      "source": [
        "#here X is independent variable or the inputs\n",
        "X = df[['x', 'y']]"
      ],
      "execution_count": null,
      "outputs": []
    },
    {
      "cell_type": "code",
      "metadata": {
        "colab": {
          "base_uri": "https://localhost:8080/",
          "height": 1000
        },
        "id": "90Or2ZzCmwak",
        "outputId": "3337ea54-95d3-4e9c-aac7-2a758b11bfb9"
      },
      
          "metadata": {
            "tags": []
          },
          "execution_count": 30
        }
      ]
    },
    {
      "cell_type": "code",
      "metadata": {
        "id": "qfXREe1RmVja"
      },
      "source": [
        "#y is the output set\n",
        "y = df[['z']]"
      ],
      "execution_count": null,
      "outputs": []
    },
    {
      "cell_type": "code",
      "metadata": {
        "colab": {
          "base_uri": "https://localhost:8080/",
          "height": 1000
        },
        "id": "eIm_-UMRmtWS",
        "outputId": "ee3aa065-b588-430f-ec00-772f13fb622b"
      },
      
    {
      "cell_type": "code",
      "metadata": {
        "id": "1S7qxj0Um1rx"
      },
      "source": [
        "#creating our regression object\n",
        "lm = LinearRegression()"
      ],
      "execution_count": null,
      "outputs": []
    },
    {
      "cell_type": "code",
      "metadata": {
        "colab": {
          "base_uri": "https://localhost:8080/"
        },
        "id": "vPXoVPtQm7wp",
        "outputId": "69609947-cabf-417a-8879-3623a915e4ec"
      },
      "source": [
        "#fitting the datas to the object\n",
        "lm.fit(X, y)"
      ],
      "execution_count": null,
      "outputs": [
        {
          "output_type": "execute_result",
          "data": {
            "text/plain": [
              "LinearRegression(copy_X=True, fit_intercept=True, n_jobs=None, normalize=False)"
            ]
          },
          "metadata": {
            "tags": []
          },
          "execution_count": 34
        }
      ]
    },
    {
      "cell_type": "code",
      "metadata": {
        "colab": {
          "base_uri": "https://localhost:8080/"
        },
        "id": "c82ayq1jm9IZ",
        "outputId": "5669ccbf-02b6-443d-d734-5d6a25a89060"
      },
      "source": [
        "#finding the coefficent(m1, m2)\n",
        "lm.coef_"
      ],
      "execution_count": null,
      "outputs": [
        {
          "output_type": "execute_result",
          "data": {
            "text/plain": [
              "array([[10.,  1.]])"
            ]
          },
          "metadata": {
            "tags": []
          },
          "execution_count": 35
        }
      ]
    },
    {
      "cell_type": "code",
      "metadata": {
        "colab": {
          "base_uri": "https://localhost:8080/"
        },
        "id": "PMC4v8FTm_eB",
        "outputId": "b25f95ae-4f2c-4d3e-f9f0-96f909619768"
      },
      "source": [
        "#finding the intercept(c)\n",
        "lm.intercept_"
      ],
      "execution_count": null,
      "outputs": [
        {
          "output_type": "execute_result",
          "data": {
            "text/plain": [
              "array([0.])"
            ]
          },
          "metadata": {
            "tags": []
          },
          "execution_count": 36
        }
      ]
    },
    {
      "cell_type": "code",
      "metadata": {
        "id": "ENRgLo9SnAxX"
      },
      "source": [
        "prediction = lm.predict(X)"
      ],
      "execution_count": null,
      "outputs": []
    },
    {
      "cell_type": "code",
      "metadata": {
        "id": "I9X37tAZnCvR"
      },
      "source": [
        "import matplotlib.pyplot as plt\n",
        "%matplotlib inline\n",
        "plt.style.use('fivethirtyeight')"
      ],
      "execution_count": null,
      "outputs": []
    },
    {
      "cell_type": "code",
      "metadata": {
        "colab": {
          "base_uri": "https://localhost:8080/",
          "height": 299
        },
        "id": "8LAmAA6enEpo",
        "outputId": "d4b84aac-ab99-49b2-a1c3-6dd3a1170ce9"
      },
      "source": [
        "#plotting the predicted values against original values\n",
        "plt.scatter(y, prediction)"
      ],
      "execution_count": null,
      "outputs": [
        {
          "output_type": "execute_result",
          "data": {
            "text/plain": [
              "<matplotlib.collections.PathCollection at 0x7f5eb05edd10>"
            ]
          },
          "metadata": {
            "tags": []
          },
          "execution_count": 39
        },
        {
          "output_type": "display_data",
          "data": {
            "image/png": "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\n",
            "text/plain": [
              "<Figure size 432x288 with 1 Axes>"
            ]
          },
          "metadata": {
            "tags": []
          }
        }
      ]
    },
    {
      "cell_type": "code",
      "metadata": {
        "colab": {
          "base_uri": "https://localhost:8080/"
        },
        "id": "-_TRgl8UnG_Y",
        "outputId": "f4813cb3-07bb-43b1-ac81-b4006b3dfae3"
      },
      "source": [
        "#predict random values\n",
        "lm.predict([[4, 5]])"
      ],
      "execution_count": null,
      "outputs": [
        {
          "output_type": "execute_result",
          "data": {
            "text/plain": [
              "array([[45.]])"
            ]
          },
          "metadata": {
            "tags": []
          },
          "execution_count": 40
        }
      ]
    },
    {
      "cell_type": "code",
      "metadata": {
        "colab": {
          "base_uri": "https://localhost:8080/"
        },
        "id": "XSKAdmOYnJDP",
        "outputId": "60ac1b31-edad-4ffb-ae0e-f050c58e969a"
      },
      "source": [
        "lm.predict([[3, 7]])"
      ],
      "execution_count": null,
      "outputs": [
        {
          "output_type": "execute_result",
          "data": {
            "text/plain": [
              "array([[37.]])"
            ]
          },
          "metadata": {
            "tags": []
          },
          "execution_count": 41
        }
      ]
    },
    {
      "cell_type": "code",
      "metadata": {
        "colab": {
          "base_uri": "https://localhost:8080/"
        },
        "id": "s7Rpkrk8nLc3",
        "outputId": "0db414e0-de88-45b6-c797-60c3d0a56d8b"
      },
      "source": [
        "#finding the score\n",
        "lm.score(X, y)"
      ],
      "execution_count": 43,
      "outputs": [
        {
          "output_type": "execute_result",
          "data": {
            "text/plain": [
              "1.0"
            ]
          },
          "metadata": {
            "tags": []
          },
          "execution_count": 43
        }
      ]
    },
    {
      "cell_type": "code",
      "metadata": {
        "id": "OkIjEjXqw2UW"
      },
      "source": [
        ""
      ],
      "execution_count": null,
      "outputs": []
    }
  ]
}
